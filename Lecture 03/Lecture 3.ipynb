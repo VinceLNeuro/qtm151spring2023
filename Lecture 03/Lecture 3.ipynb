{
 "cells": [
  {
   "attachments": {},
   "cell_type": "markdown",
   "metadata": {},
   "source": [
    "# <span style=\"color:darkblue\"> Lecture 3: Mathematical Operations and Random Numbers </span>"
   ]
  },
  {
   "attachments": {},
   "cell_type": "markdown",
   "metadata": {},
   "source": [
    "<font size=\"5\"> \n",
    "\n",
    "In the previous class we:\n",
    "- Introduced lists and variable types\n",
    "- Talked about how to extract elements from a list"
   ]
  },
  {
   "attachments": {},
   "cell_type": "markdown",
   "metadata": {},
   "source": [
    "<font size=\"5\"> \n",
    "\n",
    "In this class we will:\n",
    "\n",
    "- Introduce a library for general mathematical operations\n",
    "- Generate random numbers\n",
    "- (Optional) Matrix operations"
   ]
  },
  {
   "attachments": {},
   "cell_type": "markdown",
   "metadata": {},
   "source": [
    "## <span style=\"color:darkblue\"> I. Import Libraries </span>"
   ]
  },
  {
   "cell_type": "code",
   "execution_count": 52,
   "metadata": {},
   "outputs": [],
   "source": [
    "# the \"numPy\" library is used for mathematical operations\n",
    "# the \"matplotlib\" library is for generating graphs\n",
    "\n",
    "import numpy as np\n",
    "import matplotlib.pyplot as plt\n"
   ]
  },
  {
   "attachments": {},
   "cell_type": "markdown",
   "metadata": {},
   "source": [
    "##  <span style=\"color:darkblue\"> II. Numbers and Functions </span>"
   ]
  },
  {
   "attachments": {},
   "cell_type": "markdown",
   "metadata": {},
   "source": [
    "### Examples of numPy numbers"
   ]
  },
  {
   "cell_type": "code",
   "execution_count": 53,
   "metadata": {},
   "outputs": [
    {
     "data": {
      "text/plain": [
       "2.718281828459045"
      ]
     },
     "execution_count": 53,
     "metadata": {},
     "output_type": "execute_result"
    }
   ],
   "source": [
    "# Computes \"pi\" (3.14...)\n",
    "\n",
    "np.pi\n",
    "np.e # also work for the Euler constant"
   ]
  },
  {
   "attachments": {},
   "cell_type": "markdown",
   "metadata": {},
   "source": [
    "### Examples of numPy functions\n",
    "\n",
    "$ ln(x), e^x, sin(x), cos(x), \\sqrt{x}$"
   ]
  },
  {
   "cell_type": "code",
   "execution_count": 54,
   "metadata": {},
   "outputs": [
    {
     "name": "stdout",
     "output_type": "stream",
     "text": [
      "0.0\n",
      "2.718281828459045\n",
      "0.8414709848078965\n",
      "0.5403023058681398\n",
      "1.0\n"
     ]
    }
   ],
   "source": [
    "print(np.log(1)) # log(x) computes the logarithm with base \"e\" (Euler constant)\n",
    "print(np.exp(1)) # exp(x) compute the Euler constant raised to the power of \"x\"\n",
    "print(np.sin(1)) # sing(x) computes the sine of x\n",
    "print(np.cos(1)) # cos(x) computes the cosine of x\n",
    "print(np.sqrt(1)) # In this example, we're substituting x = 1"
   ]
  },
  {
   "cell_type": "code",
   "execution_count": 55,
   "metadata": {},
   "outputs": [
    {
     "data": {
      "text/plain": [
       "2.718281828459045"
      ]
     },
     "execution_count": 55,
     "metadata": {},
     "output_type": "execute_result"
    }
   ],
   "source": [
    "# Euler constant also works using math package\n",
    "import math\n",
    "math.exp(1)"
   ]
  },
  {
   "attachments": {},
   "cell_type": "markdown",
   "metadata": {},
   "source": [
    "<font size = \"5\">\n",
    "\n",
    "Try it yourself!\n",
    "\n",
    "- Create a new variable, $x = 5$\n",
    "- Compute $\\pi x^2$\n",
    "- Compute $ \\frac{1}{\\sqrt{2\\pi}}e^{-x^2} $"
   ]
  },
  {
   "cell_type": "code",
   "execution_count": 56,
   "metadata": {},
   "outputs": [
    {
     "name": "stdout",
     "output_type": "stream",
     "text": [
      "78.53981633974483\n",
      "5.540487995575841e-12\n"
     ]
    }
   ],
   "source": [
    "# Include your answer here:\n",
    "x = 5\n",
    "print(np.pi * x**2)\n",
    "print(1/(np.sqrt(2*np.pi)) * np.e**(-x**2))\n",
    "\n"
   ]
  },
  {
   "attachments": {},
   "cell_type": "markdown",
   "metadata": {},
   "source": [
    "##  <span style=\"color:darkblue\"> III. Vector Arrays </span>"
   ]
  },
  {
   "attachments": {},
   "cell_type": "markdown",
   "metadata": {},
   "source": [
    "### Create an array from a list\n",
    "\n",
    "$ \\text{ }$\n",
    "$ a = \\begin{pmatrix} 1 \\\\ 2 \\\\ 3 \\end{pmatrix}\n",
    "\\qquad b = \\begin{pmatrix} 0 \\\\ 1 \\\\ 0\\end{pmatrix}\n",
    "\\qquad c = \\begin{pmatrix} 10 \\\\ 100 \\\\ 1000 \\\\ 2000 \\\\ 5000 \\end{pmatrix} \n",
    "\\qquad d = \\begin{pmatrix} 4 \\\\ 2 \\end{pmatrix} $"
   ]
  },
  {
   "cell_type": "code",
   "execution_count": 13,
   "metadata": {},
   "outputs": [
    {
     "name": "stdout",
     "output_type": "stream",
     "text": [
      "[[1]\n",
      " [2]\n",
      " [3]]\n"
     ]
    }
   ],
   "source": [
    "# Create a column vector\n",
    "temp1 = [[1,2,3]] # Should change it to a 2D array so that it could be transposed\n",
    "arr1 = np.array(temp1)\n",
    "# Transpose the array and print\n",
    "print(arr1.T)\n"
   ]
  },
  {
   "cell_type": "code",
   "execution_count": 15,
   "metadata": {},
   "outputs": [
    {
     "name": "stdout",
     "output_type": "stream",
     "text": [
      "[[1]\n",
      " [2]\n",
      " [3]]\n"
     ]
    }
   ],
   "source": [
    "# Could also use `np.column_stack`\n",
    "temp2 = np.column_stack([[1,2,3]])\n",
    "print(temp2)"
   ]
  },
  {
   "cell_type": "code",
   "execution_count": 16,
   "metadata": {},
   "outputs": [],
   "source": [
    "# You create an array by converting a list [1,2,3] to a numeric object\n",
    "# \"array\" is a subfunction of the library numPy.\n",
    "\n",
    "vec_a  = np.array([1,2,3])\n",
    "vec_b  = np.array([0,1,0])\n",
    "vec_c  = np.array([10,100,1000,2000,5000])\n"
   ]
  },
  {
   "attachments": {},
   "cell_type": "markdown",
   "metadata": {},
   "source": [
    "### Accessing an element of an array and a matrix"
   ]
  },
  {
   "cell_type": "code",
   "execution_count": 10,
   "metadata": {},
   "outputs": [
    {
     "name": "stdout",
     "output_type": "stream",
     "text": [
      "1\n",
      "3\n"
     ]
    }
   ],
   "source": [
    "# Arrays, like lists, start their numbering at zero.\n",
    "# You also access them with square brackets\n",
    "\n",
    "print(vec_a[0])\n",
    "print(vec_a[2])\n"
   ]
  },
  {
   "cell_type": "code",
   "execution_count": 27,
   "metadata": {},
   "outputs": [
    {
     "name": "stdout",
     "output_type": "stream",
     "text": [
      "[1 1 1]\n",
      "1\n"
     ]
    }
   ],
   "source": [
    "# Create a matrix\n",
    "mat1 = np.array([[1,1,1],[2,2,2]])\n",
    "\n",
    "# Access the first row\n",
    "print(mat1[0,:])\n",
    "\n",
    "# Access the first element of the first row\n",
    "print(mat1[0,0])"
   ]
  },
  {
   "attachments": {},
   "cell_type": "markdown",
   "metadata": {},
   "source": [
    "### Operations with a single array and a scalar"
   ]
  },
  {
   "attachments": {},
   "cell_type": "markdown",
   "metadata": {},
   "source": [
    "<font size = \"5\">\n",
    "\n",
    "$ a + 2 = \\begin{pmatrix} a_1 + 2 \\\\ a_2 + 2 \\\\ a_3 + 2 \\end{pmatrix}$"
   ]
  },
  {
   "cell_type": "code",
   "execution_count": 11,
   "metadata": {},
   "outputs": [
    {
     "name": "stdout",
     "output_type": "stream",
     "text": [
      "[1 2 3]\n",
      "[2 4 6]\n",
      "[0.5 1.  1.5]\n",
      "[3 4 5]\n",
      "[1 4 9]\n"
     ]
    }
   ],
   "source": [
    "# A scalar refers to either an int or float\n",
    "# We can do many common operations with \n",
    "\n",
    "print(vec_a)\n",
    "print(vec_a * 2)\n",
    "print(vec_a / 2)\n",
    "print(vec_a + 2) # add all elements by 2\n",
    "print(vec_a ** 2)"
   ]
  },
  {
   "attachments": {},
   "cell_type": "markdown",
   "metadata": {},
   "source": [
    "### Element-by-element addition between two arrays of the same size\n",
    "\n",
    "$\\text{ }$\n",
    "\n",
    "$ a + b = \\begin{pmatrix} a_1 \\\\ a_2 \\\\ a_3 \\end{pmatrix} +\n",
    "          \\begin{pmatrix} b_1 \\\\ b_2 \\\\ b_3 \\end{pmatrix} =\n",
    "          \\begin{pmatrix} a_1 + b_1 \\\\ a_2 + b_2 \\\\ a_3 + b_3 \\end{pmatrix}$"
   ]
  },
  {
   "cell_type": "code",
   "execution_count": 12,
   "metadata": {},
   "outputs": [
    {
     "name": "stdout",
     "output_type": "stream",
     "text": [
      "[0 1 0]\n",
      "[1 2 3]\n",
      "[1 3 3]\n"
     ]
    }
   ],
   "source": [
    "# When you add two arrays of the same size,\n",
    "# Python adds the individual elements in each position\n",
    "print(vec_b)\n",
    "print(vec_a)\n",
    "print(vec_a + vec_b)\n"
   ]
  },
  {
   "attachments": {},
   "cell_type": "markdown",
   "metadata": {},
   "source": [
    "### <font color = 'red'> The **default multiplication option is element-by element** (i.e.: not dot product)\n",
    "\n",
    "$ a * b = \\begin{pmatrix} a_1 * b_1 \\\\ a_2 * b_2 \\\\ a_3 * b_3 \\end{pmatrix}$"
   ]
  },
  {
   "cell_type": "code",
   "execution_count": 30,
   "metadata": {},
   "outputs": [
    {
     "data": {
      "text/plain": [
       "array([0, 2, 0])"
      ]
     },
     "execution_count": 30,
     "metadata": {},
     "output_type": "execute_result"
    }
   ],
   "source": [
    "# By default\n",
    "vec_a * vec_b"
   ]
  },
  {
   "cell_type": "code",
   "execution_count": 31,
   "metadata": {},
   "outputs": [
    {
     "name": "stdout",
     "output_type": "stream",
     "text": [
      "2\n",
      "2\n"
     ]
    }
   ],
   "source": [
    "# Dot product\n",
    "print(np.dot(vec_a, vec_b))\n",
    "print(np.matmul(vec_a, vec_b))"
   ]
  },
  {
   "cell_type": "code",
   "execution_count": 32,
   "metadata": {},
   "outputs": [
    {
     "name": "stdout",
     "output_type": "stream",
     "text": [
      "[0 2 0]\n",
      "[1 1 3]\n",
      "[inf  2. inf]\n"
     ]
    },
    {
     "name": "stderr",
     "output_type": "stream",
     "text": [
      "/var/folders/n8/f5jbq99j78q4d6lt_fsxw6tm0000gn/T/ipykernel_62558/3559281149.py:6: RuntimeWarning: divide by zero encountered in divide\n",
      "  print(vec_a / vec_b) # the denominator is 0 => inf.\n"
     ]
    }
   ],
   "source": [
    "# We can do other similar element-by-element operations\n",
    "# such as multiplication, subtraction, and division.\n",
    "\n",
    "print(vec_a * vec_b)\n",
    "print(vec_a - vec_b)\n",
    "print(vec_a / vec_b) # the denominator is 0 => inf.\n"
   ]
  },
  {
   "attachments": {},
   "cell_type": "markdown",
   "metadata": {},
   "source": [
    "### Summary statistics of an array"
   ]
  },
  {
   "cell_type": "code",
   "execution_count": 33,
   "metadata": {},
   "outputs": [
    {
     "name": "stdout",
     "output_type": "stream",
     "text": [
      "2.0\n",
      "0.816496580927726\n",
      "1\n",
      "2.0\n",
      "3\n"
     ]
    }
   ],
   "source": [
    "# The function np.mean() computes the mean of an array\n",
    "# We can do similar operations for the standard deviation (std),\n",
    "# the minimum (min), the median (median), and the maximum (max).\n",
    "\n",
    "print(np.mean(vec_a))\n",
    "print(np.std(vec_a))\n",
    "print(np.min(vec_a))\n",
    "print(np.median(vec_a))\n",
    "print(np.max(vec_a))"
   ]
  },
  {
   "attachments": {},
   "cell_type": "markdown",
   "metadata": {},
   "source": [
    "<font size = \"5\">\n",
    "\n",
    "Try it yourself! Compute the mean of\n",
    "\n",
    "\n",
    "$ e = \\begin{pmatrix} 10 \\\\ 8 \\\\ 15 \\\\ 0 \\\\ 24 \\end{pmatrix} $"
   ]
  },
  {
   "cell_type": "code",
   "execution_count": 41,
   "metadata": {},
   "outputs": [
    {
     "data": {
      "text/plain": [
       "11.4"
      ]
     },
     "execution_count": 41,
     "metadata": {},
     "output_type": "execute_result"
    }
   ],
   "source": [
    "# Create your own array and compute any of the above summary statistics\n",
    "\n",
    "# Create a list first and change it to np.array\n",
    "e = np.array([10,8,15,0,24])\n",
    "# Find the mean of the array\n",
    "np.mean(e)\n",
    "\n"
   ]
  },
  {
   "attachments": {},
   "cell_type": "markdown",
   "metadata": {},
   "source": [
    "### <font size = \"5\"> <span style=\"color:red\"> Common Pitfall </span>: Make sure that the arrays have the same size when use default operations"
   ]
  },
  {
   "cell_type": "code",
   "execution_count": 43,
   "metadata": {},
   "outputs": [
    {
     "ename": "ValueError",
     "evalue": "operands could not be broadcast together with shapes (3,) (5,) ",
     "output_type": "error",
     "traceback": [
      "\u001b[0;31m---------------------------------------------------------------------------\u001b[0m",
      "\u001b[0;31mValueError\u001b[0m                                Traceback (most recent call last)",
      "Cell \u001b[0;32mIn[43], line 5\u001b[0m\n\u001b[1;32m      1\u001b[0m \u001b[39m# Here I try to combine two arrays of different size.\u001b[39;00m\n\u001b[1;32m      2\u001b[0m \n\u001b[1;32m      3\u001b[0m \u001b[39m#vec_a + vec_c\u001b[39;00m\n\u001b[0;32m----> 5\u001b[0m vec_a \u001b[39m*\u001b[39;49m vec_c\n",
      "\u001b[0;31mValueError\u001b[0m: operands could not be broadcast together with shapes (3,) (5,) "
     ]
    }
   ],
   "source": [
    "# Here I try to combine two arrays of different size.\n",
    "\n",
    "vec_a + vec_c\n",
    "\n",
    "#vec_a * vec_c"
   ]
  },
  {
   "cell_type": "code",
   "execution_count": null,
   "metadata": {},
   "outputs": [
    {
     "name": "stdout",
     "output_type": "stream",
     "text": [
      "(3,)\n",
      "(5,)\n"
     ]
    }
   ],
   "source": [
    "print(vec_a.shape)\n",
    "print(vec_c.shape)\n",
    "# The length of vec_a and vec_c are different"
   ]
  },
  {
   "attachments": {},
   "cell_type": "markdown",
   "metadata": {},
   "source": [
    "##  <span style=\"color:darkblue\"> IV. Random Numbers </span>\n",
    "\n",
    "<font size = \"5\">\n",
    "\n",
    "Why randomness?\n",
    "\n",
    "- Simulate different scenarios: high risk or low risk\n",
    "- Study properties of a complex system and/or estimator\n",
    "- In medicine, randomly assign subjects to treatment or control"
   ]
  },
  {
   "attachments": {},
   "cell_type": "markdown",
   "metadata": {},
   "source": [
    "### Create a vector of random variables"
   ]
  },
  {
   "cell_type": "code",
   "execution_count": 58,
   "metadata": {},
   "outputs": [
    {
     "name": "stdout",
     "output_type": "stream",
     "text": [
      "[-5.39741446e-01  4.76985010e-01  3.24894392e+00 -1.02122752e+00\n",
      " -5.77087303e-01  1.24121276e-01  3.02613562e-01  5.23772068e-01\n",
      "  9.40277775e-04  1.34380979e+00]\n"
     ]
    }
   ],
   "source": [
    "# This code creates a vector of random variables \n",
    "# generated from a normal distribution with\n",
    "# mean \"loc\" (location) and standard deviation \"scale\"\n",
    "# the number of distinct variabels is \"size\"\n",
    "\n",
    "randomvar_a = np.random.normal(loc=0, scale=1, size=10) # a list of number following a z distribution\n",
    "print(randomvar_a) # Will change the list every time running this line"
   ]
  },
  {
   "attachments": {},
   "cell_type": "markdown",
   "metadata": {},
   "source": [
    "<font size = \"5\">\n",
    "\n",
    "### **Random numbers differ every time!**\n",
    "\n",
    "- Avoid this problem by drawing from a \"pregenerated\" set.\n",
    "- This is called a **seed**"
   ]
  },
  {
   "cell_type": "code",
   "execution_count": 48,
   "metadata": {},
   "outputs": [
    {
     "name": "stdout",
     "output_type": "stream",
     "text": [
      "[-0.20470766  0.47894334 -0.51943872 -0.5557303   1.96578057  1.39340583\n",
      "  0.09290788  0.28174615  0.76902257  1.24643474]\n"
     ]
    }
   ],
   "source": [
    "# Your computer will typically generate different numbers every time you run a command\n",
    "# However, sometimes you want to be able to replicate the results\n",
    "# You can choose any other number instead of \"12345\". This will produce another set\n",
    "# of random numbers, but they will give the same answers\n",
    "\n",
    "np.random.seed(12345) # A menu in python that got a fixed list\n",
    "                      # The seed only affect the single chunck of code\n",
    "\n",
    "random_var_b = np.random.normal(loc=0, scale=1, size=10)\n",
    "print(random_var_b)"
   ]
  },
  {
   "attachments": {},
   "cell_type": "markdown",
   "metadata": {},
   "source": [
    "<font size = \"5\">\n",
    "\n",
    "Compute a histogram with the results"
   ]
  },
  {
   "cell_type": "code",
   "execution_count": null,
   "metadata": {},
   "outputs": [
    {
     "data": {
      "text/plain": [
       "Text(0, 0.5, 'Frequency')"
      ]
     },
     "execution_count": 55,
     "metadata": {},
     "output_type": "execute_result"
    },
    {
     "data": {
      "image/png": "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",
      "text/plain": [
       "<Figure size 640x480 with 1 Axes>"
      ]
     },
     "metadata": {},
     "output_type": "display_data"
    }
   ],
   "source": [
    "# Compute a histogram\n",
    "# You can edit the number of bins with plt.hist(x = randomvar_a)\n",
    "\n",
    "randomvar_x = np.random.normal(loc=0, scale=1, size=10)\n",
    "\n",
    "plt.hist(x = randomvar_x)\n",
    "plt.xlabel(\"Variable a\")\n",
    "plt.ylabel(\"Frequency\")"
   ]
  },
  {
   "attachments": {},
   "cell_type": "markdown",
   "metadata": {},
   "source": [
    "<font size = \"5\">\n",
    "\n",
    "Try this again with $size = 100, 1000, 10000$"
   ]
  },
  {
   "cell_type": "code",
   "execution_count": 59,
   "metadata": {},
   "outputs": [
    {
     "data": {
      "image/png": "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",
      "text/plain": [
       "<Figure size 640x480 with 1 Axes>"
      ]
     },
     "metadata": {},
     "output_type": "display_data"
    }
   ],
   "source": [
    "# Write the code for your histogram\n",
    "\n",
    "randomvar_nor = np.random.normal(0, 1, 10000)\n",
    "plt.hist(randomvar_nor) # More follow normal distribution\n",
    "plt.show()\n",
    "\n"
   ]
  },
  {
   "attachments": {},
   "cell_type": "markdown",
   "metadata": {},
   "source": [
    "# <span style=\"color:darkblue\"> Additional Resources </span>\n",
    "\n",
    "<font size=\"5\"> \n",
    "\n",
    "Check out additional examples at:\n",
    "\n",
    "- https://allendowney.github.io/ElementsOfDataScience/03_arrays.html\n",
    "\n",
    "\n"
   ]
  },
  {
   "attachments": {},
   "cell_type": "markdown",
   "metadata": {},
   "source": [
    "# <span style=\"color:darkblue\"> (Optional) Matrix Operations </span>\n",
    "\n",
    "<font size=\"5\"> \n"
   ]
  },
  {
   "attachments": {},
   "cell_type": "markdown",
   "metadata": {},
   "source": [
    "### Creating a matrix by stacking different rows\n",
    "\n",
    "$ \\text{ }$\n",
    "\n",
    "$ X = \\begin{pmatrix} 1 & 2 & 3 \\\\ \n",
    "                       4 & 5 & 6 \\\\\n",
    "                       7 & 8 & 9\n",
    "                       \\end{pmatrix} $"
   ]
  },
  {
   "cell_type": "code",
   "execution_count": 4,
   "metadata": {},
   "outputs": [
    {
     "name": "stdout",
     "output_type": "stream",
     "text": [
      "[[1 2 3]\n",
      " [4 5 6]\n",
      " [7 8 9]]\n"
     ]
    }
   ],
   "source": [
    "# Matrices are usually denoted by capital letters\n",
    "# The object [[1,2,3],[4,5,6],[7,8,9]] is a list of lists\n",
    "# It's useful to maintain this notation in the code as well\n",
    "\n",
    "X = np.array([[1,2,3],[4,5,6],[7,8,9]]) # 2D array\n",
    "print(X)"
   ]
  },
  {
   "cell_type": "code",
   "execution_count": 60,
   "metadata": {},
   "outputs": [],
   "source": [
    "# Or \n",
    "#Y = np.row_stack([[1,0,1],[0,1,0]])\n",
    "#print(Y)"
   ]
  },
  {
   "attachments": {},
   "cell_type": "markdown",
   "metadata": {},
   "source": [
    "### <font size = \"5\"> Creating a matrix by stacking different columns\n",
    "\n",
    "$ \\text{ } $\n",
    "\n",
    "$ Y = \\begin{pmatrix} 1 & 2 \\\\ 0 & 1 \\\\ 1 & 0 \\end{pmatrix}$"
   ]
  },
  {
   "cell_type": "code",
   "execution_count": 5,
   "metadata": {},
   "outputs": [
    {
     "name": "stdout",
     "output_type": "stream",
     "text": [
      "[[1 2]\n",
      " [0 1]\n",
      " [1 0]]\n"
     ]
    }
   ],
   "source": [
    "# You can also stack columns\n",
    "Y =  np.column_stack([[1,0,1],[2,1,0]])\n",
    "print(Y)"
   ]
  },
  {
   "attachments": {},
   "cell_type": "markdown",
   "metadata": {},
   "source": [
    "### <font size = \"5\"> Transpose\n",
    "\n",
    "$ \\text{ }$\n",
    "\n",
    "$ Y' = \\begin{pmatrix}  1 & 0 & 1 \\\\ 2 & 1 & 0  \\end{pmatrix} $"
   ]
  },
  {
   "cell_type": "code",
   "execution_count": 49,
   "metadata": {},
   "outputs": [
    {
     "data": {
      "text/plain": [
       "array([[1, 0, 1],\n",
       "       [2, 1, 0]])"
      ]
     },
     "execution_count": 49,
     "metadata": {},
     "output_type": "execute_result"
    }
   ],
   "source": [
    "# Matrix Transpose\n",
    "np.matrix.transpose(Y)\n",
    "\n",
    "# Or could use\n",
    "#Y.T"
   ]
  },
  {
   "attachments": {},
   "cell_type": "markdown",
   "metadata": {},
   "source": [
    "### <font size = \"5\"> Matrix multiplication\n",
    "\n",
    "$ XY = \\begin{pmatrix} 1 & 2 & 3 \\\\ \n",
    "                       4 & 5 & 6 \\\\\n",
    "                       7 & 8 & 9\n",
    "                       \\end{pmatrix}\n",
    "                       \\begin{pmatrix} 1 & 2 \\\\ 0 & 1 \\\\ 1 & 0 \\end{pmatrix} = \n",
    "        \\begin{pmatrix} 4 & 2 \\\\ 10 & 5 \\\\ 16 & 8 \\end{pmatrix} $"
   ]
  },
  {
   "cell_type": "code",
   "execution_count": 50,
   "metadata": {},
   "outputs": [
    {
     "data": {
      "text/plain": [
       "array([[ 4,  4],\n",
       "       [10, 13],\n",
       "       [16, 22]])"
      ]
     },
     "execution_count": 50,
     "metadata": {},
     "output_type": "execute_result"
    }
   ],
   "source": [
    "# Matrix Multiplication, Method1\n",
    "\n",
    "np.matmul(X,Y)"
   ]
  },
  {
   "cell_type": "code",
   "execution_count": 51,
   "metadata": {},
   "outputs": [
    {
     "name": "stdout",
     "output_type": "stream",
     "text": [
      "[[ 4  4]\n",
      " [10 13]\n",
      " [16 22]]\n",
      "[[ 4  4]\n",
      " [10 13]\n",
      " [16 22]]\n"
     ]
    }
   ],
   "source": [
    "print(np.dot(X,Y)) # Method2\n",
    "print(X @ Y) # Method3"
   ]
  },
  {
   "attachments": {},
   "cell_type": "markdown",
   "metadata": {},
   "source": [
    "### <font size = \"5\"> Matrix inverse\n",
    "\n",
    "$ X^{-1} = \\begin{pmatrix} 1 & 2 & 3 \\\\ \n",
    "                       4 & 5 & 6 \\\\\n",
    "                       0 & 8 & 9\n",
    "                       \\end{pmatrix}^{-1} $"
   ]
  },
  {
   "cell_type": "code",
   "execution_count": null,
   "metadata": {},
   "outputs": [
    {
     "name": "stdout",
     "output_type": "stream",
     "text": [
      "[[-0.14285714  0.28571429 -0.14285714]\n",
      " [-1.71428571  0.42857143  0.28571429]\n",
      " [ 1.52380952 -0.38095238 -0.14285714]]\n"
     ]
    }
   ],
   "source": [
    "# Matrix inverse\n",
    "# The following command stands for linear algebrar inverse.\n",
    "X = np.array([[1,2,3],[4,5,6],[0,8,9]])\n",
    "X_inv = np.linalg.inv(X)\n",
    "print(X_inv)"
   ]
  },
  {
   "attachments": {},
   "cell_type": "markdown",
   "metadata": {},
   "source": [
    "<font size = \"5\">\n",
    "\n",
    "Try it yourself! Check that this is indeed an inverse:\n",
    "\n",
    "$X X_{inv} = \\begin{pmatrix} 1 & 0 & 0 \\\\ 0 & 1 & 0 \\\\ 0 & 0 & 1 \\end{pmatrix}$"
   ]
  },
  {
   "cell_type": "code",
   "execution_count": null,
   "metadata": {},
   "outputs": [
    {
     "data": {
      "text/plain": [
       "array([[ 1.00000000e+00,  0.00000000e+00, -5.55111512e-17],\n",
       "       [ 0.00000000e+00,  1.00000000e+00, -1.11022302e-16],\n",
       "       [ 0.00000000e+00,  0.00000000e+00,  1.00000000e+00]])"
      ]
     },
     "execution_count": 78,
     "metadata": {},
     "output_type": "execute_result"
    }
   ],
   "source": [
    "# Multiply \"X\" times \"X_inv\" using the command shown above\n",
    "\n",
    "matmul1 = np.matmul(X, X_inv)\n",
    "np.linalg.inv(matmul1)\n"
   ]
  }
 ],
 "metadata": {
  "kernelspec": {
   "display_name": "Python 3",
   "language": "python",
   "name": "python3"
  },
  "language_info": {
   "codemirror_mode": {
    "name": "ipython",
    "version": 3
   },
   "file_extension": ".py",
   "mimetype": "text/x-python",
   "name": "python",
   "nbconvert_exporter": "python",
   "pygments_lexer": "ipython3",
<<<<<<< HEAD
   "version": "3.11.1"
=======
   "version": "3.9.13 (main, Aug 25 2022, 18:29:29) \n[Clang 12.0.0 ]"
>>>>>>> upstream/main
  },
  "orig_nbformat": 4,
  "vscode": {
   "interpreter": {
    "hash": "aee8b7b246df8f9039afb4144a1f6fd8d2ca17a180786b69acc140d282b71a49"
   }
  }
 },
 "nbformat": 4,
 "nbformat_minor": 2
}
