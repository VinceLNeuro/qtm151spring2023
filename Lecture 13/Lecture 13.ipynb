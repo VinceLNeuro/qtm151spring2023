{
 "cells": [
  {
   "attachments": {},
   "cell_type": "markdown",
   "metadata": {},
   "source": [
    "# <span style=\"color:darkblue\"> Lecture 13 - Replacing and recoding variables</span>\n",
    "\n",
    "<font size = \"5\">\n",
    "\n",
    "- Starting a new module on manipulating data\n",
    "- We will discuss NaNs and how to clean data\n"
   ]
  },
  {
   "attachments": {},
   "cell_type": "markdown",
   "metadata": {},
   "source": [
    "# <span style=\"color:darkblue\"> I. Import Libraries and Data </span>\n"
   ]
  },
  {
   "attachments": {},
   "cell_type": "markdown",
   "metadata": {},
   "source": [
    "<font size = \"5\">\n",
    "Key libraries"
   ]
  },
  {
   "cell_type": "code",
   "execution_count": 30,
   "metadata": {},
   "outputs": [],
   "source": [
    "import numpy as np\n",
    "import pandas as pd"
   ]
  },
  {
   "attachments": {},
   "cell_type": "markdown",
   "metadata": {},
   "source": [
    "<font size = \"5\">\n",
    "\n",
    "Read dataset on car racing circuits\n",
    "\n",
    "- https://en.wikipedia.org/wiki/Formula_One <br>\n",
    "- [See Data Source](https://www.kaggle.com/datasets/rohanrao/formula-1-world-championship-1950-2020)"
   ]
  },
  {
   "cell_type": "code",
   "execution_count": 31,
   "metadata": {},
   "outputs": [],
   "source": [
    "circuits = pd.read_csv(\"data_raw/circuits.csv\")"
   ]
  },
  {
   "attachments": {},
   "cell_type": "markdown",
   "metadata": {},
   "source": [
    "<font size = \"5\">\n",
    "\n",
    "The dataset \"codebook\" is a table with ...\n",
    "\n",
    "- Key column information\n",
    "- Main things:  Field, Type, and Description\n",
    "\n",
    "<img src=\"figures/codebook_circuits.png\" alt=\"drawing\" width=\"500\"/>\n"
   ]
  },
  {
   "cell_type": "code",
   "execution_count": 32,
   "metadata": {},
   "outputs": [],
   "source": [
    "# The codebook contains basic about the columns\n",
    "# \"Field\" is the name given to the name of the column\n",
    "# \"Type\"  is the variable type (with the number of characters in parenthesis):\n",
    "#         integer (int)\n",
    "#         string (varchar - \"variable character\") \n",
    "#         float (float)\n",
    "# \"Description\" contains a label with the content of the variable"
   ]
  },
  {
   "attachments": {},
   "cell_type": "markdown",
   "metadata": {},
   "source": [
    "<font size = \"5\">\n",
    "\n",
    "Quick Discussion:\n",
    "- What does the \"alt\" column represent?\n",
    "- What does \"varchar(255)\" mean?"
   ]
  },
  {
   "attachments": {},
   "cell_type": "markdown",
   "metadata": {},
   "source": [
    "<font size = 5> \n",
    "\n",
    "\"alt\": altitude <br>\n",
    "\"varchar(255)\": this is a string with a maximum **length** of 255 <br>\n",
    "\n",
    "\n",
    "<span style=\"color:blue\"> The parenthesis includes the number of characters:</span>\n",
    "- integer (int)\n",
    "- string (varchar - \"variable character\") \n",
    "- float (float) \n"
   ]
  },
  {
   "cell_type": "markdown",
   "metadata": {},
   "source": []
  },
  {
   "attachments": {},
   "cell_type": "markdown",
   "metadata": {},
   "source": [
    "# <span style=\"color:darkblue\"> II. NaNs </span>\n",
    "\n",
    "<font size = \"5\">\n",
    "\n",
    "- Means \"Not a Number\"\n",
    "- Used to denote missing values"
   ]
  },
  {
   "cell_type": "code",
<<<<<<< HEAD
   "execution_count": 3,
=======
   "execution_count": 33,
>>>>>>> upstream/main
   "metadata": {},
   "outputs": [
    {
     "data": {
      "text/plain": [
       "nan"
      ]
     },
<<<<<<< HEAD
     "execution_count": 3,
=======
     "execution_count": 33,
>>>>>>> upstream/main
     "metadata": {},
     "output_type": "execute_result"
    }
   ],
   "source": [
    "# \"NaNs\" are a special number, available in the \"np\" library\n",
    "\n",
    "np.nan # Considered as a float"
   ]
  },
  {
   "attachments": {},
   "cell_type": "markdown",
   "metadata": {},
   "source": [
    "<font size = \"5\">\n",
    "\n",
    "Operations on arrays with NaNs\\\n",
    "np.nan could not be changed"
   ]
  },
  {
   "cell_type": "code",
<<<<<<< HEAD
   "execution_count": 6,
=======
   "execution_count": 34,
>>>>>>> upstream/main
   "metadata": {},
   "outputs": [
    {
     "name": "stdout",
     "output_type": "stream",
     "text": [
      "[1 1 1]\n",
      "[nan  4.  5.]\n",
      "[nan  4.  5.]\n",
      "[ nan 0.25 0.2 ]\n",
      "[nan  5.  6.]\n",
      "[nan -3. -4.]\n"
     ]
    }
   ],
   "source": [
    "# Create two array with and without \"NaNs\"\n",
    "# The \"np.array()\" functions converts a list to an array\n",
    "\n",
    "vec_without_nans = np.array(   [1,1,1]   )\n",
    "print(vec_without_nans)\n",
    "vec_with_nans = np.array(  [np.nan,4,5] )\n",
    "print(vec_with_nans)\n",
    "\n",
    "# When you add the vectors\n",
    "# you will produce an error on any entries with \"NaNs\"\n",
    "\n",
    "# nan will overwrite anytime\n",
    "print(vec_without_nans * vec_with_nans)\n",
    "print(vec_without_nans / vec_with_nans)\n",
    "print(vec_without_nans + vec_with_nans)\n",
    "print(vec_without_nans - vec_with_nans)\n"
   ]
  },
  {
   "attachments": {},
   "cell_type": "markdown",
   "metadata": {},
   "source": [
    "<font size = \"5\">\n",
    "\n",
    "Summary statistics with NaNs"
   ]
  },
  {
   "cell_type": "code",
<<<<<<< HEAD
   "execution_count": 7,
=======
   "execution_count": 35,
>>>>>>> upstream/main
   "metadata": {},
   "outputs": [
    {
     "name": "stdout",
     "output_type": "stream",
     "text": [
      "nan\n",
      "4.5\n"
     ]
    }
   ],
   "source": [
    "# Some summary statistics will not work if there are \"NaNs\"\n",
    "# The \"np.mean()\" doesn't work if the mean includes \"NaNs\"\n",
    "print(np.mean(vec_with_nans))\n",
    "\n",
    "# Some commands ignore the \"nans\"\n",
    "# The \"np.nanmean()\" computes the mean over the numeric obvservations\n",
    "print(np.nanmean(vec_with_nans))"
   ]
  },
  {
   "attachments": {},
   "cell_type": "markdown",
   "metadata": {},
   "source": [
    "<font size = \"5\">\n",
    "\n",
    "Pandas summary statistics ignore NaNs"
   ]
  },
  {
   "cell_type": "code",
<<<<<<< HEAD
   "execution_count": 9,
=======
   "execution_count": 36,
>>>>>>> upstream/main
   "metadata": {},
   "outputs": [
    {
     "data": {
      "text/html": [
       "<div>\n",
       "<style scoped>\n",
       "    .dataframe tbody tr th:only-of-type {\n",
       "        vertical-align: middle;\n",
       "    }\n",
       "\n",
       "    .dataframe tbody tr th {\n",
       "        vertical-align: top;\n",
       "    }\n",
       "\n",
       "    .dataframe thead th {\n",
       "        text-align: right;\n",
       "    }\n",
       "</style>\n",
       "<table border=\"1\" class=\"dataframe\">\n",
       "  <thead>\n",
       "    <tr style=\"text-align: right;\">\n",
       "      <th></th>\n",
       "      <th>x</th>\n",
       "    </tr>\n",
       "  </thead>\n",
       "  <tbody>\n",
       "    <tr>\n",
       "      <th>0</th>\n",
       "      <td>NaN</td>\n",
       "    </tr>\n",
       "    <tr>\n",
       "      <th>1</th>\n",
       "      <td>4.0</td>\n",
       "    </tr>\n",
       "    <tr>\n",
       "      <th>2</th>\n",
       "      <td>5.0</td>\n",
       "    </tr>\n",
       "  </tbody>\n",
       "</table>\n",
       "</div>"
      ],
      "text/plain": [
       "     x\n",
       "0  NaN\n",
       "1  4.0\n",
       "2  5.0"
      ]
     },
     "metadata": {},
     "output_type": "display_data"
    },
    {
     "data": {
      "text/plain": [
       "4.5"
      ]
     },
<<<<<<< HEAD
     "execution_count": 9,
=======
     "execution_count": 36,
>>>>>>> upstream/main
     "metadata": {},
     "output_type": "execute_result"
    }
   ],
   "source": [
    "# This command creates an empty dataframe\n",
    "# then creates a new column called \"x\" and computes its mean\n",
    "# Note: If a column contains missing values, then the \"mean\" won't be \n",
    "#       representative of the whole sample\n",
    "\n",
    "dataset = pd.DataFrame([])\n",
    "dataset[\"x\"] = vec_with_nans\n",
    "display(dataset)\n",
    "\n",
    "dataset[\"x\"].mean()\n"
   ]
  },
  {
   "attachments": {},
   "cell_type": "markdown",
   "metadata": {},
   "source": [
    "# <span style=\"color:darkblue\"> II. Data Cleaning</span>\n",
    "\n",
    "<font size = \"5\">\n",
    "\n",
    "- Data collection isn't perfect!\n",
    "- Need to adjust values with incorrect formatting"
   ]
  },
  {
   "attachments": {},
   "cell_type": "markdown",
   "metadata": {},
   "source": [
    "<font size = \"5\">\n",
    "Get data types"
   ]
  },
  {
   "cell_type": "code",
<<<<<<< HEAD
   "execution_count": 10,
=======
   "execution_count": 37,
>>>>>>> upstream/main
   "metadata": {},
   "outputs": [
    {
     "data": {
      "text/plain": [
       "circuitId       int64\n",
       "circuitRef     object\n",
       "name           object\n",
       "location       object\n",
       "country        object\n",
       "lat           float64\n",
       "lng           float64\n",
       "alt            object\n",
       "url            object\n",
       "dtype: object"
      ]
     },
<<<<<<< HEAD
     "execution_count": 10,
=======
     "execution_count": 37,
>>>>>>> upstream/main
     "metadata": {},
     "output_type": "execute_result"
    }
   ],
   "source": [
    "# Produces a list with the data types of each column\n",
    "# Columns that say \"object\" have either strings or \n",
    "# a mix of string and numeric values\n",
    "\n",
    "\n",
    "# The period is called piping\n",
    "\n",
    "circuits.dtypes"
   ]
  },
  {
   "attachments": {},
   "cell_type": "markdown",
   "metadata": {},
   "source": [
    "<font size = \"5\">\n",
    "\n",
    "Check rows with numeric values"
   ]
  },
  {
   "cell_type": "code",
<<<<<<< HEAD
   "execution_count": 11,
=======
   "execution_count": 38,
>>>>>>> upstream/main
   "metadata": {},
   "outputs": [
    {
     "data": {
      "text/plain": [
       "0      True\n",
       "1      True\n",
       "2      True\n",
       "3      True\n",
       "4      True\n",
       "      ...  \n",
       "72     True\n",
       "73     True\n",
       "74     True\n",
       "75    False\n",
       "76    False\n",
       "Name: alt, Length: 77, dtype: bool"
      ]
     },
<<<<<<< HEAD
     "execution_count": 11,
=======
     "execution_count": 38,
>>>>>>> upstream/main
     "metadata": {},
     "output_type": "execute_result"
    }
   ],
   "source": [
    "# The \".str.isnumeric()\" checks whether each row is numeric or now.\n",
    "\n",
    "# Using the \".\" twice is an example of \"piping\"\n",
    "# which refers to chaining two commands \"str\" and \"isnumeric()\"\n",
    "\n",
    "circuits[\"alt\"].str.isnumeric()"
   ]
  },
  {
   "attachments": {},
   "cell_type": "markdown",
   "metadata": {},
   "source": [
    "<font size = \"5\">\n",
    "\n",
    "Extract list of non-numeric values"
   ]
  },
  {
   "cell_type": "code",
<<<<<<< HEAD
   "execution_count": 14,
=======
   "execution_count": 39,
>>>>>>> upstream/main
   "metadata": {},
   "outputs": [
    {
     "data": {
      "text/html": [
       "<div>\n",
       "<style scoped>\n",
       "    .dataframe tbody tr th:only-of-type {\n",
       "        vertical-align: middle;\n",
       "    }\n",
       "\n",
       "    .dataframe tbody tr th {\n",
       "        vertical-align: top;\n",
       "    }\n",
       "\n",
       "    .dataframe thead th {\n",
       "        text-align: right;\n",
       "    }\n",
       "</style>\n",
       "<table border=\"1\" class=\"dataframe\">\n",
       "  <thead>\n",
       "    <tr style=\"text-align: right;\">\n",
       "      <th></th>\n",
       "      <th>circuitId</th>\n",
       "      <th>circuitRef</th>\n",
       "      <th>name</th>\n",
       "      <th>location</th>\n",
       "      <th>country</th>\n",
       "      <th>lat</th>\n",
       "      <th>lng</th>\n",
       "      <th>alt</th>\n",
       "      <th>url</th>\n",
       "    </tr>\n",
       "  </thead>\n",
       "  <tbody>\n",
       "    <tr>\n",
       "      <th>22</th>\n",
       "      <td>80</td>\n",
       "      <td>vegas</td>\n",
       "      <td>Las Vegas Strip Street Circuit</td>\n",
       "      <td>Las Vegas</td>\n",
       "      <td>United States</td>\n",
       "      <td>36.1147</td>\n",
       "      <td>-115.1730</td>\n",
       "      <td>\\N</td>\n",
       "      <td>https://en.wikipedia.org/wiki/Las_Vegas_Grand_...</td>\n",
       "    </tr>\n",
       "    <tr>\n",
       "      <th>71</th>\n",
       "      <td>73</td>\n",
       "      <td>baku</td>\n",
       "      <td>Baku City Circuit</td>\n",
       "      <td>Baku</td>\n",
       "      <td>Azerbaijan</td>\n",
       "      <td>40.3725</td>\n",
       "      <td>49.8533</td>\n",
       "      <td>-7</td>\n",
       "      <td>http://en.wikipedia.org/wiki/Baku_City_Circuit</td>\n",
       "    </tr>\n",
       "    <tr>\n",
       "      <th>75</th>\n",
       "      <td>78</td>\n",
       "      <td>losail</td>\n",
       "      <td>Losail International Circuit</td>\n",
       "      <td>Al Daayen</td>\n",
       "      <td>Qatar</td>\n",
       "      <td>25.4900</td>\n",
       "      <td>51.4542</td>\n",
       "      <td>\\N</td>\n",
       "      <td>http://en.wikipedia.org/wiki/Losail_Internatio...</td>\n",
       "    </tr>\n",
       "    <tr>\n",
       "      <th>76</th>\n",
       "      <td>79</td>\n",
       "      <td>miami</td>\n",
       "      <td>Miami International Autodrome</td>\n",
       "      <td>Miami</td>\n",
       "      <td>USA</td>\n",
       "      <td>25.9581</td>\n",
       "      <td>-80.2389</td>\n",
       "      <td>\\N</td>\n",
       "      <td>http://en.wikipedia.org/wiki/Miami_Internation...</td>\n",
       "    </tr>\n",
       "  </tbody>\n",
       "</table>\n",
       "</div>"
      ],
      "text/plain": [
       "    circuitId circuitRef                            name   location  \\\n",
       "22         80      vegas  Las Vegas Strip Street Circuit  Las Vegas   \n",
       "71         73       baku               Baku City Circuit       Baku   \n",
       "75         78     losail    Losail International Circuit  Al Daayen   \n",
       "76         79      miami   Miami International Autodrome      Miami   \n",
       "\n",
       "          country      lat       lng alt  \\\n",
       "22  United States  36.1147 -115.1730  \\N   \n",
       "71     Azerbaijan  40.3725   49.8533  -7   \n",
       "75          Qatar  25.4900   51.4542  \\N   \n",
       "76            USA  25.9581  -80.2389  \\N   \n",
       "\n",
       "                                                  url  \n",
       "22  https://en.wikipedia.org/wiki/Las_Vegas_Grand_...  \n",
       "71     http://en.wikipedia.org/wiki/Baku_City_Circuit  \n",
       "75  http://en.wikipedia.org/wiki/Losail_Internatio...  \n",
       "76  http://en.wikipedia.org/wiki/Miami_Internation...  "
      ]
     },
     "metadata": {},
     "output_type": "display_data"
    },
    {
     "name": "stdout",
     "output_type": "stream",
     "text": [
      "['\\\\N' '-7']\n"
     ]
    }
   ],
   "source": [
    "# We can reference subattributes of columns in \".query()\"\n",
    "# The pd.unique() function extracts unique values from a list\n",
    "\n",
    "subset      = circuits.query(\"alt.str.isnumeric() == False\") # The pip command is to extract the whole row which include non numeric input in the alt column\n",
    "display(subset)\n",
    "\n",
    "list_unique = pd.unique(subset[\"alt\"])\n",
    "print(list_unique)\n"
   ]
  },
  {
   "attachments": {},
   "cell_type": "markdown",
   "metadata": {},
   "source": [
    "<font size = \"5\">\n",
    "\n",
    "Replace certain values"
   ]
  },
  {
   "cell_type": "code",
<<<<<<< HEAD
   "execution_count": 16,
=======
   "execution_count": 40,
>>>>>>> upstream/main
   "metadata": {},
   "outputs": [
    {
     "data": {
      "text/plain": [
       "0     True\n",
       "1     True\n",
       "2     True\n",
       "3     True\n",
       "4     True\n",
       "      ... \n",
       "72    True\n",
       "73    True\n",
       "74    True\n",
       "75     NaN\n",
       "76     NaN\n",
       "Name: alt, Length: 77, dtype: object"
      ]
     },
     "execution_count": 16,
     "metadata": {},
     "output_type": "execute_result"
    }
   ],
   "source": [
    "# \"list_old\" encodes values we want to change\n",
    "# \"list_new\" encodes the values that will \"replace\" the old\n",
    "list_old = ['\\\\N','-7'] # Could also do `list_old = list_unqiue`\n",
    "list_new = [np.nan,-7]\n",
    "\n",
    "# This command replaces the values of the \"alt\" column\n",
    "circuits[\"alt\"] = circuits[\"alt\"].replace(list_old, list_new)\n",
    "\n",
    "# Note: The option \"inplace = True\" permanently modifies the column\n",
    "# circuits[\"alt\"].replace(list_old, list_new, inplace = True)\n",
    "\n",
    "# Check the cleaning process\n",
    "circuits[\"alt\"].str.isnumeric()\n",
    "#\n"
   ]
  },
  {
   "attachments": {},
   "cell_type": "markdown",
   "metadata": {},
   "source": [
    "<font size = \"5\">\n",
    "\n",
    "Store a \"cleaned\" dataset"
   ]
  },
  {
   "cell_type": "code",
<<<<<<< HEAD
   "execution_count": null,
=======
   "execution_count": 41,
>>>>>>> upstream/main
   "metadata": {},
   "outputs": [],
   "source": [
    "# After the cleaning process is done, you may want to store the dataset again\n",
    "# It's recommended to do this in a separate file from the original\n",
    "# That way you can always go back to the original if you made a coding error\n",
    "\n",
    "circuits.to_csv(\"data_clean/circuits.csv\")\n"
   ]
  },
  {
   "attachments": {},
   "cell_type": "markdown",
   "metadata": {},
   "source": [
    "<font size = \"5\">\n",
    "Try it yourself!\n",
    "\n",
    "- Use \".replace()\" with the \"country\" column\n",
    "- Replace \"UK\" with \"United Kingdom\""
   ]
  },
  {
   "cell_type": "code",
<<<<<<< HEAD
   "execution_count": 39,
=======
   "execution_count": 42,
>>>>>>> upstream/main
   "metadata": {},
   "outputs": [
    {
     "data": {
      "text/html": [
       "<div>\n",
       "<style scoped>\n",
       "    .dataframe tbody tr th:only-of-type {\n",
       "        vertical-align: middle;\n",
       "    }\n",
       "\n",
       "    .dataframe tbody tr th {\n",
       "        vertical-align: top;\n",
       "    }\n",
       "\n",
       "    .dataframe thead th {\n",
       "        text-align: right;\n",
       "    }\n",
       "</style>\n",
       "<table border=\"1\" class=\"dataframe\">\n",
       "  <thead>\n",
       "    <tr style=\"text-align: right;\">\n",
       "      <th></th>\n",
       "      <th>circuitId</th>\n",
       "      <th>circuitRef</th>\n",
       "      <th>name</th>\n",
       "      <th>location</th>\n",
       "      <th>country</th>\n",
       "      <th>lat</th>\n",
       "      <th>lng</th>\n",
       "      <th>alt</th>\n",
       "      <th>url</th>\n",
       "    </tr>\n",
       "  </thead>\n",
       "  <tbody>\n",
       "  </tbody>\n",
       "</table>\n",
       "</div>"
      ],
      "text/plain": [
       "Empty DataFrame\n",
       "Columns: [circuitId, circuitRef, name, location, country, lat, lng, alt, url]\n",
       "Index: []"
      ]
     },
     "metadata": {},
     "output_type": "display_data"
    },
    {
     "data": {
      "text/html": [
       "<div>\n",
       "<style scoped>\n",
       "    .dataframe tbody tr th:only-of-type {\n",
       "        vertical-align: middle;\n",
       "    }\n",
       "\n",
       "    .dataframe tbody tr th {\n",
       "        vertical-align: top;\n",
       "    }\n",
       "\n",
       "    .dataframe thead th {\n",
       "        text-align: right;\n",
       "    }\n",
       "</style>\n",
       "<table border=\"1\" class=\"dataframe\">\n",
       "  <thead>\n",
       "    <tr style=\"text-align: right;\">\n",
       "      <th></th>\n",
       "      <th>circuitId</th>\n",
       "      <th>circuitRef</th>\n",
       "      <th>name</th>\n",
       "      <th>location</th>\n",
       "      <th>country</th>\n",
       "      <th>lat</th>\n",
       "      <th>lng</th>\n",
       "      <th>alt</th>\n",
       "      <th>url</th>\n",
       "    </tr>\n",
       "  </thead>\n",
       "  <tbody>\n",
       "    <tr>\n",
       "      <th>8</th>\n",
       "      <td>9</td>\n",
       "      <td>silverstone</td>\n",
       "      <td>Silverstone Circuit</td>\n",
       "      <td>Silverstone</td>\n",
       "      <td>United Kingdom</td>\n",
       "      <td>52.0786</td>\n",
       "      <td>-1.016940</td>\n",
       "      <td>153</td>\n",
       "      <td>http://en.wikipedia.org/wiki/Silverstone_Circuit</td>\n",
       "    </tr>\n",
       "    <tr>\n",
       "      <th>30</th>\n",
       "      <td>31</td>\n",
       "      <td>donington</td>\n",
       "      <td>Donington Park</td>\n",
       "      <td>Castle Donington</td>\n",
       "      <td>United Kingdom</td>\n",
       "      <td>52.8306</td>\n",
       "      <td>-1.375280</td>\n",
       "      <td>88</td>\n",
       "      <td>http://en.wikipedia.org/wiki/Donington_Park</td>\n",
       "    </tr>\n",
       "    <tr>\n",
       "      <th>37</th>\n",
       "      <td>38</td>\n",
       "      <td>brands_hatch</td>\n",
       "      <td>Brands Hatch</td>\n",
       "      <td>Kent</td>\n",
       "      <td>United Kingdom</td>\n",
       "      <td>51.3569</td>\n",
       "      <td>0.263056</td>\n",
       "      <td>145</td>\n",
       "      <td>http://en.wikipedia.org/wiki/Brands_Hatch</td>\n",
       "    </tr>\n",
       "    <tr>\n",
       "      <th>57</th>\n",
       "      <td>58</td>\n",
       "      <td>aintree</td>\n",
       "      <td>Aintree</td>\n",
       "      <td>Liverpool</td>\n",
       "      <td>United Kingdom</td>\n",
       "      <td>53.4769</td>\n",
       "      <td>-2.940560</td>\n",
       "      <td>20</td>\n",
       "      <td>http://en.wikipedia.org/wiki/Aintree_Motor_Rac...</td>\n",
       "    </tr>\n",
       "  </tbody>\n",
       "</table>\n",
       "</div>"
      ],
      "text/plain": [
       "    circuitId    circuitRef                 name          location  \\\n",
       "8           9   silverstone  Silverstone Circuit       Silverstone   \n",
       "30         31     donington       Donington Park  Castle Donington   \n",
       "37         38  brands_hatch         Brands Hatch              Kent   \n",
       "57         58       aintree              Aintree         Liverpool   \n",
       "\n",
       "           country      lat       lng  alt  \\\n",
       "8   United Kingdom  52.0786 -1.016940  153   \n",
       "30  United Kingdom  52.8306 -1.375280   88   \n",
       "37  United Kingdom  51.3569  0.263056  145   \n",
       "57  United Kingdom  53.4769 -2.940560   20   \n",
       "\n",
       "                                                  url  \n",
       "8    http://en.wikipedia.org/wiki/Silverstone_Circuit  \n",
       "30        http://en.wikipedia.org/wiki/Donington_Park  \n",
       "37          http://en.wikipedia.org/wiki/Brands_Hatch  \n",
       "57  http://en.wikipedia.org/wiki/Aintree_Motor_Rac...  "
      ]
     },
     "metadata": {},
     "output_type": "display_data"
    }
   ],
   "source": [
    "# Write your own code\n",
    "\n",
    "circuits[\"country\"] = circuits[\"country\"].replace(['UK'], [\"United Kingdom\"])\n",
    "\n",
    "# Check the replace process\n",
    "display(circuits.query(\"country == 'UK' \"))\n",
    "display(circuits.query(\"country == 'United Kingdom' \"))"
   ]
  },
  {
   "attachments": {},
   "cell_type": "markdown",
   "metadata": {},
   "source": [
    "<font size = \"5\">\n",
    "Try it yourself!\n",
    "\n",
<<<<<<< HEAD
    "- Are there any non-numeric values in \"lat\" or \"lng\"?\n",
    "- Use \".query()\" + \".str.isnumeric()\""
=======
    "- What is the column type of \"lat\" or \"long\"?\n",
    "- Does it have any string variables?"
>>>>>>> upstream/main
   ]
  },
  {
   "cell_type": "code",
   "execution_count": 43,
   "metadata": {},
   "outputs": [
    {
     "data": {
      "text/plain": [
       "0     144.96800\n",
       "1     101.73800\n",
       "2      50.51060\n",
       "3       2.26111\n",
       "4      29.40500\n",
       "        ...    \n",
       "72     -8.62670\n",
       "73     11.37190\n",
       "74     39.10440\n",
       "75     51.45420\n",
       "76    -80.23890\n",
       "Name: lng, Length: 77, dtype: float64"
      ]
     },
     "execution_count": 43,
     "metadata": {},
     "output_type": "execute_result"
    }
   ],
   "source": [
    "# Write your own code\n",
    "\n",
    "# circuits[[\"lat\", \"lng\"]].str.isnumeric()\n",
    "circuits[\"lat\"]\n",
    "\n",
    "circuits[\"lng\"]\n",
    "\n"
   ]
  },
  {
   "attachments": {},
   "cell_type": "markdown",
   "metadata": {},
   "source": [
    "<font size = \"5\">"
   ]
  },
  {
   "attachments": {},
   "cell_type": "markdown",
   "metadata": {},
   "source": [
    "# <span style=\"color:darkblue\"> II. Recoding Numeric Variables </span>\n",
    "\n"
   ]
  },
  {
   "attachments": {},
   "cell_type": "markdown",
   "metadata": {},
   "source": [
    "<font size = \"5\">\n",
    "\n",
    "<span style=\"color:red\"> Controlled Pitfall </span> Computing a mean for a non-numeric column"
   ]
  },
  {
   "cell_type": "code",
   "execution_count": 44,
<<<<<<< HEAD
   "metadata": {},
   "outputs": [
    {
     "data": {
      "text/plain": [
       "circuitId       int64\n",
       "circuitRef     object\n",
       "name           object\n",
       "location       object\n",
       "country        object\n",
       "lat           float64\n",
       "lng           float64\n",
       "alt            object\n",
       "url            object\n",
       "dtype: object"
      ]
     },
     "execution_count": 44,
     "metadata": {},
     "output_type": "execute_result"
    }
   ],
   "source": [
    "circuits.dtypes"
   ]
  },
  {
   "cell_type": "code",
   "execution_count": 46,
=======
>>>>>>> upstream/main
   "metadata": {},
   "outputs": [],
   "source": [
    "# Uncomment this command to see the error\n",
    "# The following error occurs because the data type\n",
    "# is not numeric\n",
    "\n",
    "\n",
    "#circuits[\"alt\"].mean()\n",
    "circuits[\"alt\"]"
   ]
  },
  {
   "attachments": {},
   "cell_type": "markdown",
   "metadata": {},
   "source": [
    "<font size = \"5\">\n",
    "\n",
    "Convert column to numeric"
   ]
  },
  {
   "cell_type": "code",
   "execution_count": 45,
   "metadata": {},
   "outputs": [
    {
     "name": "stdout",
     "output_type": "stream",
     "text": [
      "248.1891891891892\n"
     ]
    }
   ],
   "source": [
    "# pd.to_numeric() converts a column to numeric\n",
    "# Before you use this option, make sure to \"clean\" the variable\n",
    "# as we did before by checking what the non-numeric values are\n",
    "\n",
    "circuits[\"alt_numeric\"] = pd.to_numeric(circuits[\"alt\"])\n",
    "print(circuits[\"alt_numeric\"].mean())"
   ]
  },
  {
   "attachments": {},
   "cell_type": "markdown",
   "metadata": {},
   "source": [
    "<font size = \"5\">\n",
    "\n",
    "Recode values based on an interval <br>\n",
    "\n",
    "$ \\qquad x_{bin} = \\begin{cases} ``A\" &\\text{ if \\quad} x_1 < x \\le x_2 \\\\\n",
    "                                  ``B\" &\\text{ if \\quad} x_2 < x \\le x_3 \\end{cases} $\n",
    "\n"
   ]
  },
  {
   "cell_type": "code",
   "execution_count": 46,
   "metadata": {},
   "outputs": [],
   "source": [
    "bins_x = [0,2500, 5000]\n",
    "labels_x = [\"Between 0 and 2500\",\n",
    "            \"Between 2500 and 5000\"]\n",
    "\n",
    "circuits[\"bins_alt\"] = pd.cut(circuits[\"alt_numeric\"],\n",
    "                              bins = bins_x,\n",
    "                              right = True,\n",
    "                              labels = labels_x)\n",
    "\n",
    "# Note: if we set bins_x = [float(\"-inf\"),2500, float(\"inf\")]\n",
    "#       then intervals are \"Less than or equal to 2500\" and \"Above 2500\"\n",
    "#       float(\"inf\") and float(\"-inf\") represent infinity and negative infinity\n",
    "#       The \"right\" command indicates that the right interval is\n",
    "#       \"less than or equal to\""
   ]
  },
  {
   "attachments": {},
   "cell_type": "markdown",
   "metadata": {},
   "source": [
    "<font size = \"5\">\n",
    "Try it yourself!\n",
    "\n",
    "- Create a new variable \"hemisphere\"\n",
    "- Encode lattitude in (-90 and 0] as \"south\"\n",
    "- Encode lattitude in (0 and 90] as \"north\""
   ]
  },
  {
   "cell_type": "code",
   "execution_count": 62,
   "metadata": {},
   "outputs": [
    {
     "name": "stdout",
     "output_type": "stream",
     "text": [
      "-37.8497\n",
      "57.2653\n"
     ]
    },
    {
     "data": {
      "text/plain": [
       "0    -37.84970\n",
       "1      2.76083\n",
       "2     26.03250\n",
       "3     41.57000\n",
       "4     40.95170\n",
       "        ...   \n",
       "72    37.22700\n",
       "73    43.99750\n",
       "74    21.63190\n",
       "75    25.49000\n",
       "76    25.95810\n",
       "Name: lat, Length: 77, dtype: float64"
      ]
     },
     "metadata": {},
     "output_type": "display_data"
    },
    {
     "data": {
      "text/plain": [
       "0     South\n",
       "1     North\n",
       "2     North\n",
       "3     North\n",
       "4     North\n",
       "      ...  \n",
       "72    North\n",
       "73    North\n",
       "74    North\n",
       "75    North\n",
       "76    North\n",
       "Name: hemisphere, Length: 77, dtype: category\n",
       "Categories (2, object): ['South' < 'North']"
      ]
     },
     "metadata": {},
     "output_type": "display_data"
    }
   ],
   "source": [
    "# Recode the lattitude\n",
    "\n",
<<<<<<< HEAD
    "# Check the min and max in \"lat\"\n",
    "print(circuits[\"lat\"].min())\n",
    "print(circuits[\"lat\"].max())\n",
    "\n",
    "circuits[\"hemisphere\"] = pd.cut(x = circuits[\"lat\"],\n",
    "                                bins = [-90, 0, 90],\n",
    "                                right  = True, # close on the right\n",
    "                                labels = [\"South\", \"North\"]) \n",
=======
    "# Write your own code\n",
>>>>>>> upstream/main
    "\n",
    "display(circuits[\"lat\"])\n",
    "display(circuits[\"hemisphere\"])\n"
   ]
  },
  {
   "cell_type": "code",
   "execution_count": 63,
   "metadata": {},
   "outputs": [
    {
     "data": {
      "text/html": [
       "<div>\n",
       "<style scoped>\n",
       "    .dataframe tbody tr th:only-of-type {\n",
       "        vertical-align: middle;\n",
       "    }\n",
       "\n",
       "    .dataframe tbody tr th {\n",
       "        vertical-align: top;\n",
       "    }\n",
       "\n",
       "    .dataframe thead th {\n",
       "        text-align: right;\n",
       "    }\n",
       "</style>\n",
       "<table border=\"1\" class=\"dataframe\">\n",
       "  <thead>\n",
       "    <tr style=\"text-align: right;\">\n",
       "      <th></th>\n",
       "      <th>circuitId</th>\n",
       "      <th>circuitRef</th>\n",
       "      <th>name</th>\n",
       "      <th>location</th>\n",
       "      <th>country</th>\n",
       "      <th>lat</th>\n",
       "      <th>lng</th>\n",
       "      <th>alt</th>\n",
       "      <th>url</th>\n",
       "      <th>hemisphere</th>\n",
       "    </tr>\n",
       "  </thead>\n",
       "  <tbody>\n",
       "    <tr>\n",
       "      <th>0</th>\n",
       "      <td>1</td>\n",
       "      <td>albert_park</td>\n",
       "      <td>Albert Park Grand Prix Circuit</td>\n",
       "      <td>Melbourne</td>\n",
       "      <td>Australia</td>\n",
       "      <td>-37.8497</td>\n",
       "      <td>144.96800</td>\n",
       "      <td>10</td>\n",
       "      <td>http://en.wikipedia.org/wiki/Melbourne_Grand_P...</td>\n",
       "      <td>South</td>\n",
       "    </tr>\n",
       "    <tr>\n",
       "      <th>28</th>\n",
       "      <td>29</td>\n",
       "      <td>adelaide</td>\n",
       "      <td>Adelaide Street Circuit</td>\n",
       "      <td>Adelaide</td>\n",
       "      <td>Australia</td>\n",
       "      <td>-34.9272</td>\n",
       "      <td>138.61700</td>\n",
       "      <td>58</td>\n",
       "      <td>http://en.wikipedia.org/wiki/Adelaide_Street_C...</td>\n",
       "      <td>South</td>\n",
       "    </tr>\n",
       "    <tr>\n",
       "      <th>24</th>\n",
       "      <td>25</td>\n",
       "      <td>galvez</td>\n",
       "      <td>Autódromo Juan y Oscar Gálvez</td>\n",
       "      <td>Buenos Aires</td>\n",
       "      <td>Argentina</td>\n",
       "      <td>-34.6943</td>\n",
       "      <td>-58.45930</td>\n",
       "      <td>8</td>\n",
       "      <td>http://en.wikipedia.org/wiki/Aut%C3%B3dromo_Os...</td>\n",
       "      <td>South</td>\n",
       "    </tr>\n",
       "    <tr>\n",
       "      <th>55</th>\n",
       "      <td>56</td>\n",
       "      <td>george</td>\n",
       "      <td>Prince George Circuit</td>\n",
       "      <td>Eastern Cape Province</td>\n",
       "      <td>South Africa</td>\n",
       "      <td>-33.0486</td>\n",
       "      <td>27.87360</td>\n",
       "      <td>15</td>\n",
       "      <td>http://en.wikipedia.org/wiki/Prince_George_Cir...</td>\n",
       "      <td>South</td>\n",
       "    </tr>\n",
       "    <tr>\n",
       "      <th>29</th>\n",
       "      <td>30</td>\n",
       "      <td>kyalami</td>\n",
       "      <td>Kyalami</td>\n",
       "      <td>Midrand</td>\n",
       "      <td>South Africa</td>\n",
       "      <td>-25.9894</td>\n",
       "      <td>28.07670</td>\n",
       "      <td>1460</td>\n",
       "      <td>http://en.wikipedia.org/wiki/Kyalami</td>\n",
       "      <td>South</td>\n",
       "    </tr>\n",
       "    <tr>\n",
       "      <th>...</th>\n",
       "      <td>...</td>\n",
       "      <td>...</td>\n",
       "      <td>...</td>\n",
       "      <td>...</td>\n",
       "      <td>...</td>\n",
       "      <td>...</td>\n",
       "      <td>...</td>\n",
       "      <td>...</td>\n",
       "      <td>...</td>\n",
       "      <td>...</td>\n",
       "    </tr>\n",
       "    <tr>\n",
       "      <th>38</th>\n",
       "      <td>39</td>\n",
       "      <td>zandvoort</td>\n",
       "      <td>Circuit Park Zandvoort</td>\n",
       "      <td>Zandvoort</td>\n",
       "      <td>Netherlands</td>\n",
       "      <td>52.3888</td>\n",
       "      <td>4.54092</td>\n",
       "      <td>6</td>\n",
       "      <td>http://en.wikipedia.org/wiki/Circuit_Zandvoort</td>\n",
       "      <td>North</td>\n",
       "    </tr>\n",
       "    <tr>\n",
       "      <th>60</th>\n",
       "      <td>61</td>\n",
       "      <td>avus</td>\n",
       "      <td>AVUS</td>\n",
       "      <td>Berlin</td>\n",
       "      <td>Germany</td>\n",
       "      <td>52.4806</td>\n",
       "      <td>13.25140</td>\n",
       "      <td>53</td>\n",
       "      <td>http://en.wikipedia.org/wiki/AVUS</td>\n",
       "      <td>North</td>\n",
       "    </tr>\n",
       "    <tr>\n",
       "      <th>30</th>\n",
       "      <td>31</td>\n",
       "      <td>donington</td>\n",
       "      <td>Donington Park</td>\n",
       "      <td>Castle Donington</td>\n",
       "      <td>United Kingdom</td>\n",
       "      <td>52.8306</td>\n",
       "      <td>-1.37528</td>\n",
       "      <td>88</td>\n",
       "      <td>http://en.wikipedia.org/wiki/Donington_Park</td>\n",
       "      <td>North</td>\n",
       "    </tr>\n",
       "    <tr>\n",
       "      <th>57</th>\n",
       "      <td>58</td>\n",
       "      <td>aintree</td>\n",
       "      <td>Aintree</td>\n",
       "      <td>Liverpool</td>\n",
       "      <td>United Kingdom</td>\n",
       "      <td>53.4769</td>\n",
       "      <td>-2.94056</td>\n",
       "      <td>20</td>\n",
       "      <td>http://en.wikipedia.org/wiki/Aintree_Motor_Rac...</td>\n",
       "      <td>North</td>\n",
       "    </tr>\n",
       "    <tr>\n",
       "      <th>46</th>\n",
       "      <td>47</td>\n",
       "      <td>anderstorp</td>\n",
       "      <td>Scandinavian Raceway</td>\n",
       "      <td>Anderstorp</td>\n",
       "      <td>Sweden</td>\n",
       "      <td>57.2653</td>\n",
       "      <td>13.60420</td>\n",
       "      <td>153</td>\n",
       "      <td>http://en.wikipedia.org/wiki/Scandinavian_Raceway</td>\n",
       "      <td>North</td>\n",
       "    </tr>\n",
       "  </tbody>\n",
       "</table>\n",
       "<p>77 rows × 10 columns</p>\n",
       "</div>"
      ],
      "text/plain": [
       "    circuitId   circuitRef                            name  \\\n",
       "0           1  albert_park  Albert Park Grand Prix Circuit   \n",
       "28         29     adelaide         Adelaide Street Circuit   \n",
       "24         25       galvez   Autódromo Juan y Oscar Gálvez   \n",
       "55         56       george           Prince George Circuit   \n",
       "29         30      kyalami                         Kyalami   \n",
       "..        ...          ...                             ...   \n",
       "38         39    zandvoort          Circuit Park Zandvoort   \n",
       "60         61         avus                            AVUS   \n",
       "30         31    donington                  Donington Park   \n",
       "57         58      aintree                         Aintree   \n",
       "46         47   anderstorp            Scandinavian Raceway   \n",
       "\n",
       "                 location         country      lat        lng   alt  \\\n",
       "0               Melbourne       Australia -37.8497  144.96800    10   \n",
       "28               Adelaide       Australia -34.9272  138.61700    58   \n",
       "24           Buenos Aires       Argentina -34.6943  -58.45930     8   \n",
       "55  Eastern Cape Province    South Africa -33.0486   27.87360    15   \n",
       "29                Midrand    South Africa -25.9894   28.07670  1460   \n",
       "..                    ...             ...      ...        ...   ...   \n",
       "38              Zandvoort     Netherlands  52.3888    4.54092     6   \n",
       "60                 Berlin         Germany  52.4806   13.25140    53   \n",
       "30       Castle Donington  United Kingdom  52.8306   -1.37528    88   \n",
       "57              Liverpool  United Kingdom  53.4769   -2.94056    20   \n",
       "46             Anderstorp          Sweden  57.2653   13.60420   153   \n",
       "\n",
       "                                                  url hemisphere  \n",
       "0   http://en.wikipedia.org/wiki/Melbourne_Grand_P...      South  \n",
       "28  http://en.wikipedia.org/wiki/Adelaide_Street_C...      South  \n",
       "24  http://en.wikipedia.org/wiki/Aut%C3%B3dromo_Os...      South  \n",
       "55  http://en.wikipedia.org/wiki/Prince_George_Cir...      South  \n",
       "29               http://en.wikipedia.org/wiki/Kyalami      South  \n",
       "..                                                ...        ...  \n",
       "38     http://en.wikipedia.org/wiki/Circuit_Zandvoort      North  \n",
       "60                  http://en.wikipedia.org/wiki/AVUS      North  \n",
       "30        http://en.wikipedia.org/wiki/Donington_Park      North  \n",
       "57  http://en.wikipedia.org/wiki/Aintree_Motor_Rac...      North  \n",
       "46  http://en.wikipedia.org/wiki/Scandinavian_Raceway      North  \n",
       "\n",
       "[77 rows x 10 columns]"
      ]
     },
     "execution_count": 63,
     "metadata": {},
     "output_type": "execute_result"
    }
   ],
   "source": [
    "# Check the recoding processes\n",
    "circuits.sort_values(by = \"lat\", ascending=True)"
   ]
  }
 ],
 "metadata": {
  "kernelspec": {
   "display_name": "Python 3",
   "language": "python",
   "name": "python3"
  },
  "language_info": {
   "codemirror_mode": {
    "name": "ipython",
    "version": 3
   },
   "file_extension": ".py",
   "mimetype": "text/x-python",
   "name": "python",
   "nbconvert_exporter": "python",
   "pygments_lexer": "ipython3",
   "version": "3.11.1"
  },
  "orig_nbformat": 4,
  "vscode": {
   "interpreter": {
<<<<<<< HEAD
    "hash": "aee8b7b246df8f9039afb4144a1f6fd8d2ca17a180786b69acc140d282b71a49"
=======
    "hash": "21ede215e1d7050e85468e313dd1f4ce196ee27894ecac2da549fae8ddf074d3"
>>>>>>> upstream/main
   }
  }
 },
 "nbformat": 4,
 "nbformat_minor": 2
}
